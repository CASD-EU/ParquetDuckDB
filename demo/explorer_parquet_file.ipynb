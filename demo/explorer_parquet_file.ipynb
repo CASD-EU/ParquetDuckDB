{
 "cells": [
  {
   "metadata": {},
   "cell_type": "markdown",
   "source": [
    "# Explorer parquet metadata\n",
    "\n",
    "In this notebook, we use the api pyarrow to explore the metadata of different parquet files."
   ],
   "id": "34320b4a46cad8da"
  },
  {
   "metadata": {
    "ExecuteTime": {
     "end_time": "2025-01-30T12:53:48.219183Z",
     "start_time": "2025-01-30T12:53:47.523386Z"
    }
   },
   "cell_type": "code",
   "source": [
    "import pyarrow.parquet as pq\n",
    "from pathlib import Path"
   ],
   "id": "170b5aa862ae76e3",
   "outputs": [],
   "execution_count": 3
  },
  {
   "metadata": {
    "ExecuteTime": {
     "end_time": "2025-01-30T12:53:56.402510Z",
     "start_time": "2025-01-30T12:53:56.396328Z"
    }
   },
   "cell_type": "code",
   "source": [
    "data_path = Path.cwd().parent / \"data\"\n",
    "\n",
    "fr_immo_raw_path = (data_path / \"fr_immo_transactions.parquet\").as_posix()\n",
    "fr_immo_valid_path = (data_path / \"fr_immo_transactions_valid_ts.parquet\").as_posix()\n",
    "fr_immo_custom_metadata_path = (data_path / \"fr_immo_transactions_custom_metadata.parquet\").as_posix()\n",
    "print(fr_immo_raw_path)"
   ],
   "id": "f8dab97e1e30a297",
   "outputs": [
    {
     "name": "stdout",
     "output_type": "stream",
     "text": [
      "/home/pliu/git/ParquetDuckDB/data/fr_immo_transactions.parquet\n"
     ]
    }
   ],
   "execution_count": 4
  },
  {
   "metadata": {
    "ExecuteTime": {
     "end_time": "2025-01-30T12:54:00.844656Z",
     "start_time": "2025-01-30T12:54:00.841647Z"
    }
   },
   "cell_type": "code",
   "source": "fr_immo_year_partition = (data_path / \"fr_immo_partition_by_department\").as_posix()\n",
   "id": "39f66e6b3cd39433",
   "outputs": [],
   "execution_count": 5
  },
  {
   "metadata": {
    "ExecuteTime": {
     "end_time": "2025-01-30T12:54:01.554371Z",
     "start_time": "2025-01-30T12:54:01.548724Z"
    }
   },
   "cell_type": "code",
   "source": [
    "def show_parquet_schema(file_path:str):\n",
    "    \"\"\"\n",
    "    This function prints the schema of the parquet file\n",
    "    :param file_path:\n",
    "    :return:\n",
    "    \"\"\"\n",
    "    # create a pyarrow parquet file object\n",
    "    parquet_file = pq.ParquetFile(file_path)\n",
    "    # print the metadata summery\n",
    "    print(parquet_file.schema)\n"
   ],
   "id": "3d67541412681f60",
   "outputs": [],
   "execution_count": 6
  },
  {
   "metadata": {
    "ExecuteTime": {
     "end_time": "2025-01-30T12:54:02.122822Z",
     "start_time": "2025-01-30T12:54:02.113993Z"
    }
   },
   "cell_type": "code",
   "source": [
    "def show_parquet_custom_metadata(file_path:str):\n",
    "    \"\"\"\n",
    "    This function prints the schema of the parquet file\n",
    "    :param file_path:\n",
    "    :return:\n",
    "    \"\"\"\n",
    "    # create a pyarrow table object\n",
    "    arrow_table = pq.read_table(file_path)\n",
    "\n",
    "    # get metadata\n",
    "    metadata = arrow_table.schema.metadata\n",
    "\n",
    "    # Convert metadata back to a readable format\n",
    "    metadata_dict = {k.decode(): v.decode() for k, v in metadata.items()}\n",
    "\n",
    "    print(\"\\nTable & Column Metadata:\")\n",
    "    for key, value in metadata_dict.items():\n",
    "        print(f\"{key}: {value}\")"
   ],
   "id": "d5992e68d35f2334",
   "outputs": [],
   "execution_count": 7
  },
  {
   "metadata": {
    "ExecuteTime": {
     "end_time": "2025-01-30T12:54:02.685435Z",
     "start_time": "2025-01-30T12:54:02.681201Z"
    }
   },
   "cell_type": "code",
   "source": [
    "def show_parquet_file_metadata(file_path:str):\n",
    "    \"\"\"\n",
    "    This function shows the metadata summary of the parquet file\n",
    "    :param file_path:\n",
    "    :return:\n",
    "    \"\"\"\n",
    "    # create a pyarrow parquet file object\n",
    "    parquet_file = pq.ParquetFile(file_path)\n",
    "    # print the metadata summery\n",
    "    print(parquet_file.metadata)"
   ],
   "id": "9db19e5bc6a703c2",
   "outputs": [],
   "execution_count": 8
  },
  {
   "metadata": {
    "ExecuteTime": {
     "end_time": "2025-01-30T12:54:03.247044Z",
     "start_time": "2025-01-30T12:54:03.237925Z"
    }
   },
   "cell_type": "code",
   "source": [
    "def show_parquet_detail_metadata(file_path:str):\n",
    "    \"\"\"\n",
    "    This function shows the metadata detail of the parquet file\n",
    "    It iterates over row group then column trunks\n",
    "    :param file_path:\n",
    "    :return:\n",
    "    \"\"\"\n",
    "    # create a pyarrow parquet file object\n",
    "    parquet_file = pq.ParquetFile(file_path)\n",
    "    # Get number of row groups\n",
    "    num_row_groups = parquet_file.num_row_groups\n",
    "    print(f\"Number of row groups: {num_row_groups}\")\n",
    "\n",
    "    # Iterate through row groups\n",
    "    for i in range(num_row_groups):\n",
    "        row_group_metadata = parquet_file.metadata.row_group(i)\n",
    "        print(f\"\\nRow Group {i}:\")\n",
    "        print(f\"  Number of Rows: {row_group_metadata.num_rows}\")\n",
    "        print(f\"  Total Byte Size: {row_group_metadata.total_byte_size}\")\n",
    "\n",
    "        # Get column metadata within the row group\n",
    "        for col in range(row_group_metadata.num_columns):\n",
    "            col_chunk = row_group_metadata.column(col)\n",
    "            print(f\"  Column {col}: {col_chunk.path_in_schema}\")\n",
    "            print(f\"    Encoding Algo: {col_chunk.encodings}\")\n",
    "            print(f\"    Encoded Bytes: {col_chunk.total_compressed_size}\")\n",
    "\n",
    "            col_stats = col_chunk.statistics\n",
    "            if col_stats:\n",
    "                print(f\"    Min: {col_stats.min}\")\n",
    "                print(f\"    Max: {col_stats.max}\")\n",
    "                print(f\"    Null Count: {col_stats.null_count}\")\n",
    "                print(f\"    Distinct Count: {col_stats.distinct_count}\")\n",
    "            else:\n",
    "                print(\"    No statistics available\")"
   ],
   "id": "d0db430c5e9ffe93",
   "outputs": [],
   "execution_count": 9
  },
  {
   "metadata": {
    "ExecuteTime": {
     "end_time": "2025-01-30T12:54:04.480025Z",
     "start_time": "2025-01-30T12:54:04.409281Z"
    }
   },
   "cell_type": "code",
   "source": "show_parquet_schema(fr_immo_raw_path)",
   "id": "809e4db075ea93db",
   "outputs": [
    {
     "name": "stdout",
     "output_type": "stream",
     "text": [
      "<pyarrow._parquet.ParquetSchema object at 0x7e58f84f87c0>\n",
      "required group field_id=-1 schema {\n",
      "  optional int32 field_id=-1 id_transaction;\n",
      "  optional int64 field_id=-1 date_transaction (Timestamp(isAdjustedToUTC=false, timeUnit=nanoseconds, is_from_converted_type=false, force_set_converted_type=false));\n",
      "  optional double field_id=-1 prix;\n",
      "  optional binary field_id=-1 departement (String);\n",
      "  optional int32 field_id=-1 id_ville;\n",
      "  optional binary field_id=-1 ville (String);\n",
      "  optional int32 field_id=-1 code_postal;\n",
      "  optional binary field_id=-1 adresse (String);\n",
      "  optional binary field_id=-1 type_batiment (String);\n",
      "  optional int32 field_id=-1 n_pieces;\n",
      "  optional int32 field_id=-1 surface_habitable;\n",
      "  optional double field_id=-1 latitude;\n",
      "  optional double field_id=-1 longitude;\n",
      "}\n",
      "\n"
     ]
    }
   ],
   "execution_count": 10
  },
  {
   "metadata": {
    "ExecuteTime": {
     "end_time": "2025-01-30T12:54:10.510802Z",
     "start_time": "2025-01-30T12:54:10.500559Z"
    }
   },
   "cell_type": "code",
   "source": "show_parquet_file_metadata(fr_immo_raw_path)",
   "id": "e3bdf8ac257f576c",
   "outputs": [
    {
     "name": "stdout",
     "output_type": "stream",
     "text": [
      "<pyarrow._parquet.FileMetaData object at 0x7e58f84f5440>\n",
      "  created_by: parquet-cpp-arrow version 19.0.0\n",
      "  num_columns: 13\n",
      "  num_rows: 9141573\n",
      "  num_row_groups: 9\n",
      "  format_version: 2.6\n",
      "  serialized_size: 18182\n"
     ]
    }
   ],
   "execution_count": 11
  },
  {
   "metadata": {
    "ExecuteTime": {
     "end_time": "2025-01-30T12:55:00.378435Z",
     "start_time": "2025-01-30T12:54:52.536502Z"
    }
   },
   "cell_type": "code",
   "source": "show_parquet_custom_metadata(fr_immo_raw_path)",
   "id": "e159b4108a60f703",
   "outputs": [
    {
     "name": "stdout",
     "output_type": "stream",
     "text": [
      "\n",
      "Table & Column Metadata:\n",
      "pandas: {\"index_columns\": [{\"kind\": \"range\", \"name\": null, \"start\": 0, \"stop\": 9141573, \"step\": 1}], \"column_indexes\": [{\"name\": null, \"field_name\": null, \"pandas_type\": \"unicode\", \"numpy_type\": \"object\", \"metadata\": {\"encoding\": \"UTF-8\"}}], \"columns\": [{\"name\": \"id_transaction\", \"field_name\": \"id_transaction\", \"pandas_type\": \"int32\", \"numpy_type\": \"int32\", \"metadata\": null}, {\"name\": \"date_transaction\", \"field_name\": \"date_transaction\", \"pandas_type\": \"datetime\", \"numpy_type\": \"datetime64[ns]\", \"metadata\": null}, {\"name\": \"prix\", \"field_name\": \"prix\", \"pandas_type\": \"float64\", \"numpy_type\": \"float64\", \"metadata\": null}, {\"name\": \"departement\", \"field_name\": \"departement\", \"pandas_type\": \"unicode\", \"numpy_type\": \"object\", \"metadata\": null}, {\"name\": \"id_ville\", \"field_name\": \"id_ville\", \"pandas_type\": \"int32\", \"numpy_type\": \"int32\", \"metadata\": null}, {\"name\": \"ville\", \"field_name\": \"ville\", \"pandas_type\": \"unicode\", \"numpy_type\": \"object\", \"metadata\": null}, {\"name\": \"code_postal\", \"field_name\": \"code_postal\", \"pandas_type\": \"int32\", \"numpy_type\": \"int32\", \"metadata\": null}, {\"name\": \"adresse\", \"field_name\": \"adresse\", \"pandas_type\": \"unicode\", \"numpy_type\": \"object\", \"metadata\": null}, {\"name\": \"type_batiment\", \"field_name\": \"type_batiment\", \"pandas_type\": \"unicode\", \"numpy_type\": \"object\", \"metadata\": null}, {\"name\": \"n_pieces\", \"field_name\": \"n_pieces\", \"pandas_type\": \"int32\", \"numpy_type\": \"int32\", \"metadata\": null}, {\"name\": \"surface_habitable\", \"field_name\": \"surface_habitable\", \"pandas_type\": \"int32\", \"numpy_type\": \"int32\", \"metadata\": null}, {\"name\": \"latitude\", \"field_name\": \"latitude\", \"pandas_type\": \"float64\", \"numpy_type\": \"float64\", \"metadata\": null}, {\"name\": \"longitude\", \"field_name\": \"longitude\", \"pandas_type\": \"float64\", \"numpy_type\": \"float64\", \"metadata\": null}], \"creator\": {\"library\": \"pyarrow\", \"version\": \"19.0.0\"}, \"pandas_version\": \"2.2.3\"}\n"
     ]
    }
   ],
   "execution_count": 13
  },
  {
   "metadata": {
    "ExecuteTime": {
     "end_time": "2025-01-28T12:44:14.194052Z",
     "start_time": "2025-01-28T12:44:12.718851Z"
    }
   },
   "cell_type": "code",
   "source": "show_parquet_custom_metadata(fr_immo_valid_path)",
   "id": "4e029a51c8dbb4ca",
   "outputs": [
    {
     "name": "stdout",
     "output_type": "stream",
     "text": [
      "\n",
      "Table & Column Metadata:\n",
      "org.apache.spark.version: 3.5.3\n",
      "org.apache.spark.sql.parquet.row.metadata: {\"type\":\"struct\",\"fields\":[{\"name\":\"id_transaction\",\"type\":\"integer\",\"nullable\":true,\"metadata\":{}},{\"name\":\"date_transaction\",\"type\":\"timestamp\",\"nullable\":true,\"metadata\":{}},{\"name\":\"prix\",\"type\":\"double\",\"nullable\":true,\"metadata\":{}},{\"name\":\"departement\",\"type\":\"string\",\"nullable\":true,\"metadata\":{}},{\"name\":\"id_ville\",\"type\":\"integer\",\"nullable\":true,\"metadata\":{}},{\"name\":\"ville\",\"type\":\"string\",\"nullable\":true,\"metadata\":{}},{\"name\":\"code_postal\",\"type\":\"integer\",\"nullable\":true,\"metadata\":{}},{\"name\":\"adresse\",\"type\":\"string\",\"nullable\":true,\"metadata\":{}},{\"name\":\"type_batiment\",\"type\":\"string\",\"nullable\":true,\"metadata\":{}},{\"name\":\"n_pieces\",\"type\":\"integer\",\"nullable\":true,\"metadata\":{}},{\"name\":\"surface_habitable\",\"type\":\"integer\",\"nullable\":true,\"metadata\":{}},{\"name\":\"latitude\",\"type\":\"double\",\"nullable\":true,\"metadata\":{}},{\"name\":\"longitude\",\"type\":\"double\",\"nullable\":true,\"metadata\":{}}]}\n"
     ]
    }
   ],
   "execution_count": 13
  },
  {
   "metadata": {
    "ExecuteTime": {
     "end_time": "2025-01-28T12:55:29.846248Z",
     "start_time": "2025-01-28T12:55:28.360683Z"
    }
   },
   "cell_type": "code",
   "source": "show_parquet_custom_metadata(fr_immo_custom_metadata_path)",
   "id": "8c6cfcfab5765056",
   "outputs": [
    {
     "name": "stdout",
     "output_type": "stream",
     "text": [
      "\n",
      "Table & Column Metadata:\n",
      "owner: Pengfei\n",
      "organization: CASD\n",
      "data_version: 1.0.0\n",
      "row.metadata: {\"type\": \"struct\", \"fields\": [{\"name\": \"id_transaction\", \"type\": \"integer\", \"metadata\": {\"description\": \"Id de transaction (add by pengfei)\"}}, {\"name\": \"date_transaction\", \"type\": \"timestamp\", \"metadata\": {\"description\": \"Date de transaction (add by pengfei)\"}}, {\"name\": \"prix\", \"type\": \"double\", \"metadata\": {\"description\": \"Le prix de bien en euros (add by pengfei)\"}}, {\"name\": \"departement\", \"type\": \"string\", \"metadata\": {\"description\": \"bla bla (add by pengfei)\"}}, {\"name\": \"id_ville\", \"type\": \"integer\", \"metadata\": {\"description\": \"bla bla (add by pengfei)\"}}, {\"name\": \"ville\", \"type\": \"string\", \"metadata\": {\"description\": \"bla bla (add by pengfei)\"}}, {\"name\": \"code_postal\", \"type\": \"integer\", \"metadata\": {\"description\": \"bla bla (add by pengfei)\"}}, {\"name\": \"adresse\", \"type\": \"string\", \"metadata\": {\"description\": \"bla bla (add by pengfei)\"}}, {\"name\": \"type_batiment\", \"type\": \"string\", \"metadata\": {\"description\": \"bla bla (add by pengfei)\"}}, {\"name\": \"n_pieces\", \"type\": \"integer\", \"metadata\": {\"description\": \"bla bla (add by pengfei)\"}}, {\"name\": \"surface_habitable\", \"type\": \"integer\", \"metadata\": {\"description\": \"bla bla (add by pengfei)\"}}, {\"name\": \"latitude\", \"type\": \"double\", \"metadata\": {\"description\": \"bla bla (add by pengfei)\"}}, {\"name\": \"longitude\", \"type\": \"double\", \"metadata\": {\"description\": \"bla bla (add by pengfei)\"}}]}\n"
     ]
    }
   ],
   "execution_count": 17
  },
  {
   "metadata": {
    "ExecuteTime": {
     "end_time": "2025-01-28T11:23:49.873044Z",
     "start_time": "2025-01-28T11:23:48.547576Z"
    }
   },
   "cell_type": "code",
   "source": "show_parquet_detail_metadata(fr_immo_raw_path)",
   "id": "73f9c3a798a9205f",
   "outputs": [
    {
     "name": "stdout",
     "output_type": "stream",
     "text": [
      "{'owner': 'Pengfei', 'organization': 'CASD', 'data_version': '1.0.0'}\n"
     ]
    }
   ],
   "execution_count": 16
  },
  {
   "metadata": {
    "ExecuteTime": {
     "end_time": "2025-01-29T15:43:36.217100Z",
     "start_time": "2025-01-29T15:43:36.181430Z"
    }
   },
   "cell_type": "code",
   "source": [
    "v2_example = \"/home/pliu/git/ParquetDuckDB/data/fr_immo_transactions_multi_partition/departement=92/type_batiment=Appartement/part-00000-a73fc87e-c032-4529-9bcc-e6195eca35ba.c000.snappy.parquet\"\n",
    "show_parquet_file_metadata(v2_example)"
   ],
   "id": "d60b33a8b9a8f539",
   "outputs": [
    {
     "name": "stdout",
     "output_type": "stream",
     "text": [
      "<pyarrow._parquet.FileMetaData object at 0x7b44f6ba93a0>\n",
      "  created_by: parquet-mr version 1.13.1 (build db4183109d5b734ec5930d870cdae161e408ddba)\n",
      "  num_columns: 11\n",
      "  num_rows: 202414\n",
      "  num_row_groups: 1\n",
      "  format_version: 1.0\n",
      "  serialized_size: 2453\n"
     ]
    }
   ],
   "execution_count": 9
  },
  {
   "metadata": {
    "ExecuteTime": {
     "end_time": "2025-01-29T15:43:59.036538Z",
     "start_time": "2025-01-29T15:43:59.011116Z"
    }
   },
   "cell_type": "code",
   "source": "show_parquet_detail_metadata(v2_example)",
   "id": "7ca11985219393ad",
   "outputs": [
    {
     "name": "stdout",
     "output_type": "stream",
     "text": [
      "Number of row groups: 1\n",
      "\n",
      "Row Group 0:\n",
      "  Number of Rows: 202414\n",
      "  Total Byte Size: 3895976\n",
      "  Column 0: id_transaction\n",
      "    Encoding Algo: ('DELTA_BINARY_PACKED',)\n",
      "    Encoded Bytes: 410467\n",
      "    Min: 13681429\n",
      "    Max: 14652289\n",
      "    Null Count: 0\n",
      "    Distinct Count: None\n",
      "  Column 1: date_transaction\n",
      "    Encoding Algo: ('PLAIN', 'RLE_DICTIONARY')\n",
      "    Encoded Bytes: 47981\n",
      "    No statistics available\n",
      "  Column 2: prix\n",
      "    Encoding Algo: ('PLAIN', 'RLE_DICTIONARY')\n",
      "    Encoded Bytes: 575278\n",
      "    Min: 0.0\n",
      "    Max: 139480320.0\n",
      "    Null Count: 0\n",
      "    Distinct Count: None\n",
      "  Column 3: id_ville\n",
      "    Encoding Algo: ('PLAIN', 'RLE_DICTIONARY')\n",
      "    Encoded Bytes: 152810\n",
      "    Min: 2\n",
      "    Max: 78\n",
      "    Null Count: 0\n",
      "    Distinct Count: None\n",
      "  Column 4: ville\n",
      "    Encoding Algo: ('PLAIN', 'RLE_DICTIONARY')\n",
      "    Encoded Bytes: 153164\n",
      "    Min: ANTONY\n",
      "    Max: VILLENEUVE-LA-GARENNE\n",
      "    Null Count: 0\n",
      "    Distinct Count: None\n",
      "  Column 5: code_postal\n",
      "    Encoding Algo: ('PLAIN', 'RLE_DICTIONARY')\n",
      "    Encoded Bytes: 152822\n",
      "    Min: 75015\n",
      "    Max: 92800\n",
      "    Null Count: 0\n",
      "    Distinct Count: None\n",
      "  Column 6: adresse\n",
      "    Encoding Algo: ('PLAIN', 'RLE_DICTIONARY')\n",
      "    Encoded Bytes: 650852\n",
      "    Min:   LA CROIX BLANCHE\n",
      "    Max: 9T RUE ELIE LE GALLAIS\n",
      "    Null Count: 0\n",
      "    Distinct Count: None\n",
      "  Column 7: n_pieces\n",
      "    Encoding Algo: ('PLAIN', 'RLE_DICTIONARY')\n",
      "    Encoded Bytes: 122459\n",
      "    Min: 0\n",
      "    Max: 55\n",
      "    Null Count: 0\n",
      "    Distinct Count: None\n",
      "  Column 8: surface_habitable\n",
      "    Encoding Algo: ('PLAIN', 'RLE_DICTIONARY')\n",
      "    Encoded Bytes: 224824\n",
      "    Min: 1\n",
      "    Max: 625\n",
      "    Null Count: 0\n",
      "    Distinct Count: None\n",
      "  Column 9: latitude\n",
      "    Encoding Algo: ('PLAIN', 'RLE_DICTIONARY')\n",
      "    Encoded Bytes: 511517\n",
      "    Min: 48.730805692808\n",
      "    Max: 48.9457886997531\n",
      "    Null Count: 0\n",
      "    Distinct Count: None\n",
      "  Column 10: longitude\n",
      "    Encoding Algo: ('PLAIN', 'RLE_DICTIONARY')\n",
      "    Encoded Bytes: 511518\n",
      "    Min: 2.14678665424989\n",
      "    Max: 2.33569651580176\n",
      "    Null Count: 0\n",
      "    Distinct Count: None\n"
     ]
    }
   ],
   "execution_count": 12
  },
  {
   "metadata": {
    "ExecuteTime": {
     "end_time": "2025-01-30T13:03:04.146564Z",
     "start_time": "2025-01-30T13:03:04.134610Z"
    }
   },
   "cell_type": "code",
   "source": "show_parquet_file_metadata(fr_immo_valid_path)",
   "id": "39049a0a82d74fac",
   "outputs": [
    {
     "name": "stdout",
     "output_type": "stream",
     "text": [
      "<pyarrow._parquet.FileMetaData object at 0x7e58fc55e0c0>\n",
      "  created_by: parquet-mr version 1.13.1 (build db4183109d5b734ec5930d870cdae161e408ddba)\n",
      "  num_columns: 13\n",
      "  num_rows: 9141573\n",
      "  num_row_groups: 3\n",
      "  format_version: 1.0\n",
      "  serialized_size: 6199\n"
     ]
    }
   ],
   "execution_count": 14
  },
  {
   "metadata": {
    "ExecuteTime": {
     "end_time": "2025-01-27T12:06:16.175266Z",
     "start_time": "2025-01-27T12:06:15.294811Z"
    }
   },
   "cell_type": "code",
   "source": "",
   "id": "8e3a64d625ccfdc5",
   "outputs": [],
   "execution_count": 7
  },
  {
   "metadata": {
    "ExecuteTime": {
     "end_time": "2025-01-27T12:06:16.617746Z",
     "start_time": "2025-01-27T12:06:16.613321Z"
    }
   },
   "cell_type": "code",
   "source": [
    "\n",
    "\n",
    "\n"
   ],
   "id": "7bd9b366e93a2fba",
   "outputs": [],
   "execution_count": 8
  },
  {
   "metadata": {},
   "cell_type": "code",
   "outputs": [],
   "execution_count": null,
   "source": "",
   "id": "f77aa160a981ee70"
  },
  {
   "metadata": {},
   "cell_type": "code",
   "outputs": [],
   "execution_count": null,
   "source": "",
   "id": "afe06201272e9ce1"
  }
 ],
 "metadata": {
  "kernelspec": {
   "display_name": "Python 3",
   "language": "python",
   "name": "python3"
  },
  "language_info": {
   "codemirror_mode": {
    "name": "ipython",
    "version": 2
   },
   "file_extension": ".py",
   "mimetype": "text/x-python",
   "name": "python",
   "nbconvert_exporter": "python",
   "pygments_lexer": "ipython2",
   "version": "2.7.6"
  }
 },
 "nbformat": 4,
 "nbformat_minor": 5
}
