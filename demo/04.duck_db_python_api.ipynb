{
 "cells": [
  {
   "cell_type": "code",
   "execution_count": 1,
   "id": "initial_id",
   "metadata": {
    "collapsed": true
   },
   "outputs": [],
   "source": [
    "import duckdb\n",
    "import pyarrow as pa\n",
    "import pyarrow.parquet as pq\n",
    "\n",
    "import geopandas as gpd\n",
    "import matplotlib.pyplot as plt\n",
    "import matplotlib.colors as mcolors\n",
    "import zipfile\n",
    "import os\n",
    "from pathlib import Path"
   ]
  },
  {
   "cell_type": "markdown",
   "id": "0605c94a",
   "metadata": {},
   "source": [
    "## Create a duckdb connexion\n",
    "\n",
    "In this tutorial, we use duckdb as in memory db without any persistence. We can easily use the below config to persiste the data in a local file system\n",
    "\n",
    "```python\n",
    "conn = duckdb.connect(database=\"/tmp/my_database.db\")\n",
    "```"
   ]
  },
  {
   "cell_type": "code",
   "execution_count": 3,
   "id": "605e75f8f45c0e11",
   "metadata": {},
   "outputs": [
    {
     "name": "stdout",
     "output_type": "stream",
     "text": [
      "Résultat de la requête :  [(1, 'John'), (2, 'Alice'), (3, 'Bob')]\n"
     ]
    }
   ],
   "source": [
    "# Connexion à DuckDB\n",
    "conn = duckdb.connect(database=':memory:', read_only=False)\n",
    "\n",
    "# Exécution d'une requête SQL pour cree une table\n",
    "cursor = conn.cursor()\n",
    "cursor.execute(\"CREATE TABLE sample_table(id INTEGER, name VARCHAR)\")\n",
    "cursor.execute(\"INSERT INTO sample_table VALUES (1, 'John'), (2, 'Alice'), (3, 'Bob')\")\n",
    "\n",
    "# Récupération des résultats de la requête\n",
    "result = cursor.execute(\"SELECT * FROM sample_table\").fetchall()\n",
    "print(\"Résultat de la requête : \", result)\n",
    "\n"
   ]
  },
  {
   "cell_type": "markdown",
   "id": "c69e884e",
   "metadata": {},
   "source": [
    "## Use duckdb to read parquet file"
   ]
  },
  {
   "cell_type": "code",
   "execution_count": 4,
   "id": "3e16aabd",
   "metadata": {},
   "outputs": [],
   "source": [
    "data_path = Path.cwd().parent / \"data\"\n",
    "fr_immo_raw_path = (data_path / \"fr_immo_transactions.parquet\").as_posix()"
   ]
  },
  {
   "cell_type": "code",
   "execution_count": 5,
   "id": "6043ba77",
   "metadata": {},
   "outputs": [
    {
     "data": {
      "text/plain": [
       "<duckdb.duckdb.DuckDBPyConnection at 0x7fc60cf95c70>"
      ]
     },
     "execution_count": 5,
     "metadata": {},
     "output_type": "execute_result"
    }
   ],
   "source": [
    "# Chargement du fichier Parquet\n",
    "table_name = \"fr_immo\"\n",
    "cursor = conn.cursor()\n",
    "cursor.execute(f\"CREATE TABLE {table_name} AS SELECT * FROM parquet_scan('{fr_immo_raw_path}')\")\n"
   ]
  },
  {
   "cell_type": "code",
   "execution_count": 6,
   "id": "55f69d71",
   "metadata": {},
   "outputs": [
    {
     "name": "stdout",
     "output_type": "stream",
     "text": [
      "Exsiting table list:\n",
      "           name\n",
      "0       fr_immo\n",
      "1  sample_table\n"
     ]
    }
   ],
   "source": [
    "def show_tables():\n",
    "    # List all tables in the database\n",
    "    tables = conn.execute(\"SHOW TABLES\").fetchdf()\n",
    "\n",
    "    # Print the table names\n",
    "    print(f\"Exsiting table list:\\n{tables}\")\n",
    "\n",
    "show_tables()"
   ]
  },
  {
   "cell_type": "code",
   "execution_count": 7,
   "id": "d6e4c216",
   "metadata": {},
   "outputs": [
    {
     "name": "stdout",
     "output_type": "stream",
     "text": [
      "Les 5 premières lignes du fichier Parquet\n",
      ":    id_transaction date_transaction      prix departement  id_ville  \\\n",
      "0          141653       2014-01-02  197000.0          01       427   \n",
      "1          141970       2014-01-02  157500.0          01       451   \n",
      "2          139240       2014-01-02  112000.0          01       365   \n",
      "3          146016       2014-01-02  173020.0          01       202   \n",
      "4          145911       2014-01-03   88000.0          01       283   \n",
      "\n",
      "                  ville  code_postal                      adresse  \\\n",
      "0               TREVOUX         1600           6346 MTE DES LILAS   \n",
      "1                VIRIAT         1440       1369 RTE DE STRASBOURG   \n",
      "2  SAINT-JEAN-SUR-VEYLE         1290   5174  SAINT JEAN SUR VEYLE   \n",
      "3               LAGNIEU         1150  21 GR GRANDE RUE DE BULLIEZ   \n",
      "4               OYONNAX         1100          29B RUE DE LA FORGE   \n",
      "\n",
      "  type_batiment  n_pieces  surface_habitable   latitude  longitude  \n",
      "0   Appartement         4                 84  45.942301   4.770694  \n",
      "1        Maison         4                103  46.236407   5.262935  \n",
      "2        Maison         3                 78  46.260077   4.918612  \n",
      "3        Maison         4                 72  45.899045   5.354220  \n",
      "4   Appartement         3                104  46.258408   5.640803  \n"
     ]
    }
   ],
   "source": [
    "# Affichage des 5 premières lignes de table immo_fr\n",
    "result = cursor.execute(f\"SELECT * FROM {table_name} LIMIT 5\").fetchdf()\n",
    "print(\"Les 5 premières lignes du fichier Parquet\\n:\", result)"
   ]
  },
  {
   "cell_type": "code",
   "execution_count": 8,
   "id": "e12d55e7",
   "metadata": {},
   "outputs": [],
   "source": [
    "## Check the schema and basic stats of the table"
   ]
  },
  {
   "cell_type": "code",
   "execution_count": 9,
   "id": "b19fce55",
   "metadata": {},
   "outputs": [
    {
     "name": "stdout",
     "output_type": "stream",
     "text": [
      "Schema de table :\n",
      "Table schema:\n",
      "          column_name     data_type\n",
      "0      id_transaction       INTEGER\n",
      "1    date_transaction  TIMESTAMP_NS\n",
      "2                prix        DOUBLE\n",
      "3         departement       VARCHAR\n",
      "4            id_ville       INTEGER\n",
      "5               ville       VARCHAR\n",
      "6         code_postal       INTEGER\n",
      "7             adresse       VARCHAR\n",
      "8       type_batiment       VARCHAR\n",
      "9            n_pieces       INTEGER\n",
      "10  surface_habitable       INTEGER\n",
      "11           latitude        DOUBLE\n",
      "12          longitude        DOUBLE\n"
     ]
    }
   ],
   "source": [
    "# Statistiques de base sur les colonnes\n",
    "table_schema = conn.execute(f\"\"\"\n",
    "    SELECT column_name, data_type\n",
    "    FROM information_schema.columns\n",
    "    WHERE table_name = '{table_name}'\n",
    "\"\"\").fetchdf()\n",
    "\n",
    "print(\"Schema de table :\")\n",
    "print(f\"Table schema:\\n{table_schema}\")"
   ]
  },
  {
   "cell_type": "code",
   "execution_count": 10,
   "id": "8f8dbe7c",
   "metadata": {},
   "outputs": [
    {
     "name": "stdout",
     "output_type": "stream",
     "text": [
      "Statistiques des colonnes numériques :\n",
      "Nom de colonne / Moyenne / Ecart type / Minimum / Maximum\n",
      "[('id_transaction', 7739952.499090474, 4446977.8655904615, 1, 15058573)]\n",
      "[('id_ville', 208.0698140243479, 171.9242239066142, 1, 909)]\n",
      "[('code_postal', 52936.02979454411, 27696.004797471785, 1000, 97490)]\n",
      "[('n_pieces', 3.524251132709874, 1.5448404739813182, 0, 112)]\n",
      "[('surface_habitable', 82.18102442544625, 43.386028549398894, 0, 7626)]\n",
      "[('prix', 225329.25414140944, 1663532.0597511746, 0.0, 3300000000.0)]\n",
      "[('latitude', 46.269937361272454, 6.012010692496521, -21.3862188488928, 51.082059485914)]\n",
      "[('longitude', 2.385461679804203, 6.443977622752839, -63.1520742420684, 55.8292394321594)]\n"
     ]
    }
   ],
   "source": [
    "# Statistiques de base sur les données (pour les colonnes numériques)\n",
    "numeric_columns_query = f\"\"\"\n",
    "    SELECT column_name\n",
    "    FROM information_schema.columns\n",
    "    WHERE table_name = '{table_name}'\n",
    "    AND data_type IN ('INTEGER', 'DOUBLE', 'FLOAT', 'DECIMAL')\n",
    "\"\"\"\n",
    "numeric_columns = conn.execute(numeric_columns_query).fetchall()\n",
    "\n",
    "# Construction de la requête SQL pour les statistiques des colonnes numériques\n",
    "stats_queries = []\n",
    "for column in numeric_columns:\n",
    "    column_name = column[0]\n",
    "    stats_queries.append(f\"\"\"\n",
    "        SELECT\n",
    "            '{column_name}' AS column_name,\n",
    "            AVG({column_name}) AS average,\n",
    "            STDDEV({column_name}) AS standard_deviation,\n",
    "            MIN({column_name}) AS min_value,\n",
    "            MAX({column_name}) AS max_value\n",
    "        FROM {table_name}\n",
    "    \"\"\")\n",
    "\n",
    "# Exécution des requêtes de statistiques et affichage des résultats\n",
    "print(\"Statistiques des colonnes numériques :\")\n",
    "print(\"Nom de colonne / Moyenne / Ecart type / Minimum / Maximum\")\n",
    "for query in stats_queries:\n",
    "    result = conn.execute(query).fetchall()\n",
    "    print(result)"
   ]
  },
  {
   "cell_type": "markdown",
   "id": "f97661d7",
   "metadata": {},
   "source": [
    "## Q2. Qulle est la ville le plus active sur le marche immobilier?\n",
    " "
   ]
  },
  {
   "cell_type": "code",
   "execution_count": 11,
   "id": "872192d1",
   "metadata": {},
   "outputs": [
    {
     "name": "stdout",
     "output_type": "stream",
     "text": [
      "Nombre de transaction group by year et ville:\n",
      "        year          ville  transaction_count\n",
      "0       2017       TOULOUSE              10791\n",
      "1       2021       TOULOUSE               9944\n",
      "2       2022       TOULOUSE               9911\n",
      "3       2019       TOULOUSE               9881\n",
      "4       2022           NICE               9431\n",
      "...      ...            ...                ...\n",
      "312107  2017        MACOUBA                  1\n",
      "312108  2020  GRAND RIVIERE                  1\n",
      "312109  2018           MANA                  1\n",
      "312110  2020         APATOU                  1\n",
      "312111  2023    MARIPASOULA                  1\n",
      "\n",
      "[312112 rows x 3 columns]\n"
     ]
    }
   ],
   "source": [
    "\n",
    "\n",
    "query = f\"\"\"\n",
    "SELECT EXTRACT(YEAR FROM date_transaction) AS year, \n",
    "ville, \n",
    "COUNT(*) AS transaction_count\n",
    "FROM {table_name}\n",
    "GROUP BY year, ville\n",
    "ORDER BY transaction_count desc;\n",
    "\"\"\"\n",
    "\n",
    "result = conn.execute(query).fetchdf()\n",
    "\n",
    "# Print the grouped data\n",
    "print(f\"Nombre de transaction group by year et ville:\\n{result}\")"
   ]
  },
  {
   "cell_type": "markdown",
   "id": "0bde27fd",
   "metadata": {},
   "source": [
    "## Get the prix meter carre par annee et ville"
   ]
  },
  {
   "cell_type": "code",
   "execution_count": 12,
   "id": "ee83b8d7",
   "metadata": {},
   "outputs": [
    {
     "name": "stdout",
     "output_type": "stream",
     "text": [
      "Nombre de transaction group by year et ville:\n",
      "         year                   ville      prix  surface_habitable  \\\n",
      "0        2016                FARAMANS   50000.0                  0   \n",
      "1        2017  SAINT CYR AU MONT D OR  420000.0                  0   \n",
      "2        2017  SAINT CYR AU MONT D OR  215000.0                  0   \n",
      "3        2019   SAINT-LAURENT-DE-MURE  207000.0                  0   \n",
      "4        2019   SAINT-LAURENT-DE-MURE  235000.0                  0   \n",
      "...       ...                     ...       ...                ...   \n",
      "9141568  2015    BOULOGNE-BILLANCOURT       0.0                 89   \n",
      "9141569  2015               MONTROUGE       0.0                 84   \n",
      "9141570  2015       NEUILLY-SUR-SEINE       0.0                210   \n",
      "9141571  2015                  ANTONY       0.0                 86   \n",
      "9141572  2015        LEVALLOIS-PERRET       0.0                 39   \n",
      "\n",
      "         prix_par_meter  \n",
      "0                   inf  \n",
      "1                   inf  \n",
      "2                   inf  \n",
      "3                   inf  \n",
      "4                   inf  \n",
      "...                 ...  \n",
      "9141568             0.0  \n",
      "9141569             0.0  \n",
      "9141570             0.0  \n",
      "9141571             0.0  \n",
      "9141572             0.0  \n",
      "\n",
      "[9141573 rows x 5 columns]\n"
     ]
    }
   ],
   "source": [
    "query = f\"\"\"\n",
    "SELECT EXTRACT(YEAR FROM date_transaction) AS year, \n",
    "ville,\n",
    "prix,\n",
    "surface_habitable,\n",
    "prix / surface_habitable AS prix_par_meter\n",
    "FROM {table_name}\n",
    "ORDER BY prix_par_meter desc;\n",
    "\"\"\"\n",
    "\n",
    "prix_par_meter_df = conn.execute(query).fetchdf()\n",
    "\n",
    "# Print the grouped data\n",
    "print(f\"Nombre de transaction group by year et ville:\\n{prix_par_meter_df}\")"
   ]
  },
  {
   "cell_type": "code",
   "execution_count": 24,
   "id": "0e23ffd3",
   "metadata": {},
   "outputs": [],
   "source": [
    "prix_par_meter_tab_name =\"price_par_meter\"\n",
    "\n",
    "query = f\"\"\"\n",
    "CREATE OR REPlACE TEMP TABLE {prix_par_meter_tab_name} AS\n",
    "SELECT * FROM\n",
    "(\n",
    "SELECT EXTRACT(YEAR FROM date_transaction) AS year, \n",
    "id_ville,\n",
    "ville,\n",
    "prix,\n",
    "surface_habitable,\n",
    "prix / surface_habitable AS prix_par_meter\n",
    "FROM {table_name}\n",
    ") AS prix_data\n",
    "WHERE prix > 10000 and prix < 5000000 and surface_habitable > 10;\n",
    "\"\"\"\n",
    "\n",
    "result = conn.execute(query)\n",
    "\n"
   ]
  },
  {
   "cell_type": "code",
   "execution_count": 25,
   "id": "e68a647a",
   "metadata": {},
   "outputs": [
    {
     "name": "stdout",
     "output_type": "stream",
     "text": [
      "Prix par metre carre group by year et ville:\n",
      "         year  id_ville                   ville       prix  surface_habitable  \\\n",
      "0        2017       118                PARIS 18  4700000.0                 16   \n",
      "1        2020       118                PARIS 18  4350000.0                 15   \n",
      "2        2015       102                PARIS 02  4600000.0                 16   \n",
      "3        2024       119            SAINT TROPEZ  4450000.0                 17   \n",
      "4        2021       102                PARIS 02  4500000.0                 18   \n",
      "...       ...       ...                     ...        ...                ...   \n",
      "9069379  2019        19           BARCELONNETTE    12000.0                483   \n",
      "9069380  2024       116                PARIS 16    10200.0                418   \n",
      "9069381  2020       224              POULDERGAT    14000.0                657   \n",
      "9069382  2015       115  DISSAY SOUS COURCILLON    15000.0                867   \n",
      "9069383  2015       305               SALINDRES   120000.0               7626   \n",
      "\n",
      "         prix_par_meter  \n",
      "0         293750.000000  \n",
      "1         290000.000000  \n",
      "2         287500.000000  \n",
      "3         261764.705882  \n",
      "4         250000.000000  \n",
      "...                 ...  \n",
      "9069379       24.844720  \n",
      "9069380       24.401914  \n",
      "9069381       21.308980  \n",
      "9069382       17.301038  \n",
      "9069383       15.735641  \n",
      "\n",
      "[9069384 rows x 6 columns]\n"
     ]
    }
   ],
   "source": [
    "prix_par_meter_df = conn.execute(f\"select * from {prix_par_meter_tab_name} order by prix_par_meter desc\").fetchdf()\n",
    "\n",
    "# Print the grouped data\n",
    "print(f\"Prix par metre carre group by year et ville:\\n{prix_par_meter_df}\")"
   ]
  },
  {
   "cell_type": "markdown",
   "id": "a116a7da",
   "metadata": {},
   "source": [
    "## Read a csv file\n"
   ]
  },
  {
   "cell_type": "code",
   "execution_count": 21,
   "id": "52474c6f",
   "metadata": {},
   "outputs": [
    {
     "name": "stdout",
     "output_type": "stream",
     "text": [
      "    Count\n",
      "0  315542\n"
     ]
    }
   ],
   "source": [
    "fiscaux_tab_name = \"fr_fiscaux\"\n",
    "fr_fiscaux_path = (data_path / \"foyers_fiscaux.csv\").as_posix()\n",
    "result = conn.execute(f\"CREATE OR REPLACE TABLE {fiscaux_tab_name} AS SELECT * FROM read_csv_auto('{fr_fiscaux_path}')\").fetchdf()\n",
    "\n",
    "print(result)"
   ]
  },
  {
   "cell_type": "code",
   "execution_count": 23,
   "id": "7d892ef6",
   "metadata": {},
   "outputs": [
    {
     "name": "stdout",
     "output_type": "stream",
     "text": [
      "french fiscaux dataset:\n",
      "         date departement id_ville                    ville  n_foyers_fiscaux  \\\n",
      "0       2022          01      001  L'Abergement-Clémenciat             466.0   \n",
      "1       2022          01      002    L'Abergement-de-Varey             143.0   \n",
      "2       2022          01      004        Ambérieu-en-Bugey            9276.0   \n",
      "3       2022          01      005      Ambérieux-en-Dombes            1073.0   \n",
      "4       2022          01      006                  Ambléon              78.0   \n",
      "...      ...         ...      ...                      ...               ...   \n",
      "315537  2014         976       13            M'TSANGAMOUJI            1782.0   \n",
      "315538  2014         976       14                 OUANGANI            2043.0   \n",
      "315539  2014         976       15                 PAMANDZI            3526.0   \n",
      "315540  2014         976       16                     SADA            2600.0   \n",
      "315541  2014         976       17                 TSINGONI            3180.0   \n",
      "\n",
      "        revenu_fiscal_moyen  montant_impot_moyen  n_foyers_0k_10k  \\\n",
      "0                  35291.10              1718.06              NaN   \n",
      "1                  34788.93              1728.15              NaN   \n",
      "2                  26612.43              1251.87           1846.0   \n",
      "3                  34712.21              2078.79            100.0   \n",
      "4                  26655.58              1347.87              NaN   \n",
      "...                     ...                  ...              ...   \n",
      "315537              8052.56                76.00           1204.0   \n",
      "315538              7702.70                92.96           1457.0   \n",
      "315539             15019.30               484.49           1961.0   \n",
      "315540             14166.07               279.04           1385.0   \n",
      "315541              9927.79               209.87           2153.0   \n",
      "\n",
      "        n_foyers_10k_12k  n_foyers_12k_15k  n_foyers_15k_20k  \\\n",
      "0                    NaN               NaN               NaN   \n",
      "1                    NaN               NaN               NaN   \n",
      "2                  450.0             705.0            1630.0   \n",
      "3                   30.0              70.0             177.0   \n",
      "4                    NaN               NaN               NaN   \n",
      "...                  ...               ...               ...   \n",
      "315537              40.0             104.0             169.0   \n",
      "315538              33.0              96.0             170.0   \n",
      "315539              54.0             153.0             304.0   \n",
      "315540              57.0             135.0             276.0   \n",
      "315541               NaN             157.0             220.0   \n",
      "\n",
      "        n_foyers_20k_30k  n_foyers_30k_50k  n_foyers_50k_100k  \\\n",
      "0                    NaN               NaN                NaN   \n",
      "1                    NaN               NaN                NaN   \n",
      "2                 1971.0            1668.0              894.0   \n",
      "3                  234.0             280.0              158.0   \n",
      "4                    NaN               NaN                NaN   \n",
      "...                  ...               ...                ...   \n",
      "315537             145.0              94.0                NaN   \n",
      "315538             152.0             104.0                NaN   \n",
      "315539             450.0             377.0              198.0   \n",
      "315540             362.0             262.0              111.0   \n",
      "315541             230.0             240.0              122.0   \n",
      "\n",
      "        n_foyers_100k_plus  \n",
      "0                      NaN  \n",
      "1                      NaN  \n",
      "2                    112.0  \n",
      "3                     24.0  \n",
      "4                      NaN  \n",
      "...                    ...  \n",
      "315537                 NaN  \n",
      "315538                 NaN  \n",
      "315539                29.0  \n",
      "315540                12.0  \n",
      "315541                 NaN  \n",
      "\n",
      "[315542 rows x 15 columns]\n"
     ]
    }
   ],
   "source": [
    "# show the first 5 lines\n",
    "result = conn.execute(f\"select * from {fiscaux_tab_name};\").fetchdf()\n",
    "\n",
    "print(f\"french fiscaux dataset:\\n {result}\")"
   ]
  },
  {
   "cell_type": "code",
   "execution_count": 22,
   "id": "ed2e9baf",
   "metadata": {},
   "outputs": [
    {
     "name": "stdout",
     "output_type": "stream",
     "text": [
      "Exsiting table list:\n",
      "              name\n",
      "0       fr_fiscaux\n",
      "1          fr_immo\n",
      "2  price_par_meter\n",
      "3     sample_table\n"
     ]
    }
   ],
   "source": [
    "show_tables()"
   ]
  },
  {
   "cell_type": "code",
   "execution_count": 27,
   "id": "05b7a4e7",
   "metadata": {},
   "outputs": [],
   "source": [
    "# join the two tables\n",
    "\n",
    "query = f\"\"\"\n",
    "SELECT \n",
    "    t1.*, \n",
    "    t2.*\n",
    "FROM {prix_par_meter_tab_name} AS t1\n",
    "JOIN {fiscaux_tab_name} AS t2\n",
    "    ON t1.year = t2.date  -- Match on year\n",
    "    AND t1.id_ville = t2.id_ville -- Match on city ID\n",
    "\"\"\"\n",
    "\n",
    "# Execute the query and fetch results\n",
    "result = conn.execute(query).fetchdf()\n",
    "\n",
    "# Print the result\n",
    "print(result)"
   ]
  },
  {
   "cell_type": "code",
   "execution_count": 13,
   "id": "9638e4c6",
   "metadata": {},
   "outputs": [],
   "source": [
    "conn.close()"
   ]
  },
  {
   "cell_type": "code",
   "execution_count": null,
   "id": "e29f023e",
   "metadata": {},
   "outputs": [],
   "source": []
  }
 ],
 "metadata": {
  "kernelspec": {
   "display_name": "Python 3",
   "language": "python",
   "name": "python3"
  },
  "language_info": {
   "codemirror_mode": {
    "name": "ipython",
    "version": 3
   },
   "file_extension": ".py",
   "mimetype": "text/x-python",
   "name": "python",
   "nbconvert_exporter": "python",
   "pygments_lexer": "ipython3",
   "version": "3.9.19"
  }
 },
 "nbformat": 4,
 "nbformat_minor": 5
}
