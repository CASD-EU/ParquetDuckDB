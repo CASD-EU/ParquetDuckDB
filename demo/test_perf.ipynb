{
 "cells": [
  {
   "cell_type": "code",
   "id": "initial_id",
   "metadata": {
    "collapsed": true,
    "ExecuteTime": {
     "end_time": "2025-01-28T09:13:48.255440Z",
     "start_time": "2025-01-28T09:13:48.246440Z"
    }
   },
   "source": [
    "from pyspark.sql import SparkSession, DataFrame\n",
    "from pyspark.sql.functions import col, year\n",
    "from pathlib import Path"
   ],
   "outputs": [],
   "execution_count": 15
  },
  {
   "metadata": {
    "ExecuteTime": {
     "end_time": "2025-01-28T08:55:17.108215Z",
     "start_time": "2025-01-28T08:55:09.950271Z"
    }
   },
   "cell_type": "code",
   "source": [
    "spark=SparkSession.builder.master(\"local[4]\") \\\n",
    "                  .appName(\"ReadWriteParquet\") \\\n",
    "                  .config(\"spark.sql.legacy.parquet.nanosAsLong\", \"true\") \\\n",
    "                  .getOrCreate()\n"
   ],
   "id": "ced482640a1fddc0",
   "outputs": [
    {
     "name": "stderr",
     "output_type": "stream",
     "text": [
      "25/01/28 09:55:12 WARN Utils: Your hostname, pliu-ubuntu24 resolves to a loopback address: 127.0.1.1; using 192.168.30.128 instead (on interface ens33)\n",
      "25/01/28 09:55:12 WARN Utils: Set SPARK_LOCAL_IP if you need to bind to another address\n",
      "Setting default log level to \"WARN\".\n",
      "To adjust logging level use sc.setLogLevel(newLevel). For SparkR, use setLogLevel(newLevel).\n",
      "25/01/28 09:55:14 WARN NativeCodeLoader: Unable to load native-hadoop library for your platform... using builtin-java classes where applicable\n",
      "25/01/28 09:55:16 WARN Utils: Service 'SparkUI' could not bind on port 4040. Attempting port 4041.\n",
      "25/01/28 09:55:16 WARN Utils: Service 'SparkUI' could not bind on port 4041. Attempting port 4042.\n"
     ]
    }
   ],
   "execution_count": 2
  },
  {
   "metadata": {},
   "cell_type": "markdown",
   "source": "# configuration",
   "id": "17e0ee13031602dd"
  },
  {
   "metadata": {
    "ExecuteTime": {
     "end_time": "2025-01-28T08:55:26.704891Z",
     "start_time": "2025-01-28T08:55:26.694722Z"
    }
   },
   "cell_type": "code",
   "source": [
    "data_path = Path.cwd().parent / \"data\"\n",
    "\n",
    "fr_immo_raw_path = (data_path / \"fr_immo_transactions.parquet\").as_posix()\n",
    "fr_immo_valid_path = (data_path / \"fr_immo_transactions_valid_ts.parquet\").as_posix()\n",
    "fr_immo_csv_path = (data_path / \"fr_immo_transactions.csv\").as_posix()\n",
    "\n",
    "date_col_name = \"date_transaction\"\n"
   ],
   "id": "22a348b81de98149",
   "outputs": [],
   "execution_count": 3
  },
  {
   "metadata": {},
   "cell_type": "markdown",
   "source": [
    "## Performance test csv vs parquet\n",
    "\n",
    "In this part, we will test the query performance between csv and parquet.\n",
    "\n",
    "1. row_counts\n",
    "2. group_by\n",
    "3. filter"
   ],
   "id": "6fbdfdea55a8f6d1"
  },
  {
   "metadata": {
    "ExecuteTime": {
     "end_time": "2025-01-28T08:58:17.890065Z",
     "start_time": "2025-01-28T08:58:14.290700Z"
    }
   },
   "cell_type": "code",
   "source": [
    "%%time\n",
    "fr_immo_parquet_df = spark.read.parquet(fr_immo_valid_path)"
   ],
   "id": "66637272e90694c5",
   "outputs": [
    {
     "name": "stderr",
     "output_type": "stream",
     "text": [
      "                                                                                \r"
     ]
    },
    {
     "name": "stdout",
     "output_type": "stream",
     "text": [
      "CPU times: user 5.42 ms, sys: 4.46 ms, total: 9.88 ms\n",
      "Wall time: 3.6 s\n"
     ]
    }
   ],
   "execution_count": 4
  },
  {
   "metadata": {
    "ExecuteTime": {
     "end_time": "2025-01-27T16:08:00.793837Z",
     "start_time": "2025-01-27T16:07:59.883583Z"
    }
   },
   "cell_type": "code",
   "source": [
    "%%time\n",
    "fr_immo_parquet_df.count()"
   ],
   "id": "3716c9e802314b6",
   "outputs": [
    {
     "name": "stdout",
     "output_type": "stream",
     "text": [
      "CPU times: user 6.42 ms, sys: 3.65 ms, total: 10.1 ms\n",
      "Wall time: 879 ms\n"
     ]
    },
    {
     "data": {
      "text/plain": [
       "9141573"
      ]
     },
     "execution_count": 15,
     "metadata": {},
     "output_type": "execute_result"
    }
   ],
   "execution_count": 15
  },
  {
   "metadata": {
    "ExecuteTime": {
     "end_time": "2025-01-27T16:08:02.872427Z",
     "start_time": "2025-01-27T16:08:02.864356Z"
    }
   },
   "cell_type": "code",
   "source": "fr_immo_parquet_df.printSchema()",
   "id": "e3a5a53e626f1f60",
   "outputs": [
    {
     "name": "stdout",
     "output_type": "stream",
     "text": [
      "root\n",
      " |-- id_transaction: integer (nullable = true)\n",
      " |-- date_transaction: timestamp (nullable = true)\n",
      " |-- prix: double (nullable = true)\n",
      " |-- departement: string (nullable = true)\n",
      " |-- id_ville: integer (nullable = true)\n",
      " |-- ville: string (nullable = true)\n",
      " |-- code_postal: integer (nullable = true)\n",
      " |-- adresse: string (nullable = true)\n",
      " |-- type_batiment: string (nullable = true)\n",
      " |-- n_pieces: integer (nullable = true)\n",
      " |-- surface_habitable: integer (nullable = true)\n",
      " |-- latitude: double (nullable = true)\n",
      " |-- longitude: double (nullable = true)\n",
      "\n"
     ]
    }
   ],
   "execution_count": 16
  },
  {
   "metadata": {
    "ExecuteTime": {
     "end_time": "2025-01-28T09:00:20.734804Z",
     "start_time": "2025-01-28T08:59:56.159252Z"
    }
   },
   "cell_type": "code",
   "source": [
    "%%time\n",
    "fr_immo_csv_df = spark.read.option(\"header\",True).option(\"inferSchema\", True).csv(fr_immo_csv_path)\n"
   ],
   "id": "4129f6eee302c3b9",
   "outputs": [
    {
     "name": "stderr",
     "output_type": "stream",
     "text": [
      "[Stage 5:====================================================>     (9 + 1) / 10]\r"
     ]
    },
    {
     "name": "stdout",
     "output_type": "stream",
     "text": [
      "CPU times: user 23.9 ms, sys: 7.73 ms, total: 31.6 ms\n",
      "Wall time: 24.6 s\n"
     ]
    },
    {
     "name": "stderr",
     "output_type": "stream",
     "text": [
      "                                                                                \r"
     ]
    }
   ],
   "execution_count": 7
  },
  {
   "metadata": {
    "ExecuteTime": {
     "end_time": "2025-01-27T16:09:19.149326Z",
     "start_time": "2025-01-27T16:09:19.135974Z"
    }
   },
   "cell_type": "code",
   "source": "fr_immo_csv_df.printSchema()",
   "id": "9409b1321d46faa8",
   "outputs": [
    {
     "name": "stdout",
     "output_type": "stream",
     "text": [
      "root\n",
      " |-- id_transaction: integer (nullable = true)\n",
      " |-- date_transaction: timestamp (nullable = true)\n",
      " |-- prix: double (nullable = true)\n",
      " |-- departement: integer (nullable = true)\n",
      " |-- id_ville: integer (nullable = true)\n",
      " |-- ville: string (nullable = true)\n",
      " |-- code_postal: integer (nullable = true)\n",
      " |-- adresse: string (nullable = true)\n",
      " |-- type_batiment: string (nullable = true)\n",
      " |-- n_pieces: integer (nullable = true)\n",
      " |-- surface_habitable: integer (nullable = true)\n",
      " |-- latitude: double (nullable = true)\n",
      " |-- longitude: double (nullable = true)\n",
      "\n"
     ]
    }
   ],
   "execution_count": 19
  },
  {
   "metadata": {
    "ExecuteTime": {
     "end_time": "2025-01-27T16:09:31.019185Z",
     "start_time": "2025-01-27T16:09:29.645569Z"
    }
   },
   "cell_type": "code",
   "source": [
    "%%time\n",
    "fr_immo_csv_df.count()"
   ],
   "id": "9daa2bc0dc97b71e",
   "outputs": [
    {
     "name": "stderr",
     "output_type": "stream",
     "text": [
      "[Stage 42:==================================>                      (6 + 4) / 10]\r"
     ]
    },
    {
     "name": "stdout",
     "output_type": "stream",
     "text": [
      "CPU times: user 6.33 ms, sys: 2.47 ms, total: 8.8 ms\n",
      "Wall time: 1.36 s\n"
     ]
    },
    {
     "name": "stderr",
     "output_type": "stream",
     "text": [
      "                                                                                \r"
     ]
    },
    {
     "data": {
      "text/plain": [
       "9141573"
      ]
     },
     "execution_count": 20,
     "metadata": {},
     "output_type": "execute_result"
    }
   ],
   "execution_count": 20
  },
  {
   "metadata": {
    "ExecuteTime": {
     "end_time": "2025-01-27T16:09:57.197248Z",
     "start_time": "2025-01-27T16:09:57.190693Z"
    }
   },
   "cell_type": "code",
   "source": "batiment_typ_col_name = \"type_batiment\"",
   "id": "2608af003801764e",
   "outputs": [],
   "execution_count": 21
  },
  {
   "metadata": {
    "ExecuteTime": {
     "end_time": "2025-01-27T16:10:00.849637Z",
     "start_time": "2025-01-27T16:10:00.166126Z"
    }
   },
   "cell_type": "code",
   "source": [
    "%%time\n",
    "fr_immo_parquet_df.groupby(batiment_typ_col_name).count().show()"
   ],
   "id": "b0ce5108baeceb71",
   "outputs": [
    {
     "name": "stdout",
     "output_type": "stream",
     "text": [
      "+-------------+-------+\n",
      "|type_batiment|  count|\n",
      "+-------------+-------+\n",
      "|  Appartement|4079137|\n",
      "|       Maison|5062436|\n",
      "+-------------+-------+\n",
      "\n",
      "CPU times: user 3.88 ms, sys: 551 μs, total: 4.43 ms\n",
      "Wall time: 679 ms\n"
     ]
    }
   ],
   "execution_count": 22
  },
  {
   "metadata": {
    "ExecuteTime": {
     "end_time": "2025-01-27T16:10:12.658824Z",
     "start_time": "2025-01-27T16:10:06.477530Z"
    }
   },
   "cell_type": "code",
   "source": [
    "%%time\n",
    "fr_immo_csv_df.groupby(batiment_typ_col_name).count().show()"
   ],
   "id": "5d74c966018b76af",
   "outputs": [
    {
     "name": "stderr",
     "output_type": "stream",
     "text": [
      "[Stage 48:===================================================>     (9 + 1) / 10]\r"
     ]
    },
    {
     "name": "stdout",
     "output_type": "stream",
     "text": [
      "+-------------+-------+\n",
      "|type_batiment|  count|\n",
      "+-------------+-------+\n",
      "|  Appartement|4079137|\n",
      "|       Maison|5062436|\n",
      "+-------------+-------+\n",
      "\n",
      "CPU times: user 16.6 ms, sys: 6.98 ms, total: 23.5 ms\n",
      "Wall time: 6.17 s\n"
     ]
    },
    {
     "name": "stderr",
     "output_type": "stream",
     "text": [
      "                                                                                \r"
     ]
    }
   ],
   "execution_count": 23
  },
  {
   "metadata": {
    "ExecuteTime": {
     "end_time": "2025-01-28T08:59:16.956988Z",
     "start_time": "2025-01-28T08:59:14.497691Z"
    }
   },
   "cell_type": "code",
   "source": [
    "%%time\n",
    "target_year =2023\n",
    "code_postal_montrouge = 92120\n",
    "\n",
    "total_transaction_montrouge = fr_immo_parquet_df.filter((col(\"code_postal\") == code_postal_montrouge) & (year(col(\"date_transaction\"))==target_year)).count()\n",
    "print(f\"Total transaction montrouge: {total_transaction_montrouge}\")"
   ],
   "id": "ea9c951602b5c290",
   "outputs": [
    {
     "name": "stderr",
     "output_type": "stream",
     "text": [
      "[Stage 1:============================================>              (3 + 1) / 4]\r"
     ]
    },
    {
     "name": "stdout",
     "output_type": "stream",
     "text": [
      "Total transaction montrouge: 656\n",
      "CPU times: user 6.35 ms, sys: 3.6 ms, total: 9.95 ms\n",
      "Wall time: 2.45 s\n"
     ]
    },
    {
     "name": "stderr",
     "output_type": "stream",
     "text": [
      "                                                                                \r"
     ]
    }
   ],
   "execution_count": 6
  },
  {
   "metadata": {},
   "cell_type": "code",
   "outputs": [],
   "execution_count": null,
   "source": "",
   "id": "7241ca4bbfe8c94e"
  },
  {
   "metadata": {
    "ExecuteTime": {
     "end_time": "2025-01-28T09:00:48.936335Z",
     "start_time": "2025-01-28T09:00:38.245306Z"
    }
   },
   "cell_type": "code",
   "source": [
    "%%time\n",
    "total_transaction_montrouge = fr_immo_csv_df.filter((col(\"code_postal\") == code_postal_montrouge) & (year(col(\"date_transaction\"))==target_year)).count()\n",
    "print(f\"Total transaction montrouge: {total_transaction_montrouge}\")"
   ],
   "id": "d996aea57d1a0cfa",
   "outputs": [
    {
     "name": "stderr",
     "output_type": "stream",
     "text": [
      "[Stage 6:====================================================>     (9 + 1) / 10]\r"
     ]
    },
    {
     "name": "stdout",
     "output_type": "stream",
     "text": [
      "Total transaction montrouge: 656\n",
      "CPU times: user 18.6 ms, sys: 3.16 ms, total: 21.7 ms\n",
      "Wall time: 10.7 s\n"
     ]
    },
    {
     "name": "stderr",
     "output_type": "stream",
     "text": [
      "                                                                                \r"
     ]
    }
   ],
   "execution_count": 8
  },
  {
   "metadata": {
    "ExecuteTime": {
     "end_time": "2025-01-28T09:04:05.967173Z",
     "start_time": "2025-01-28T09:04:03.485499Z"
    }
   },
   "cell_type": "code",
   "source": [
    "%%time\n",
    "distinct_city = fr_immo_parquet_df.select(\"ville\").distinct()\n",
    "print(f\"distinct city count: {distinct_city.count()}\")\n",
    "distinct_city.show(5)"
   ],
   "id": "6c9f693830321433",
   "outputs": [
    {
     "name": "stderr",
     "output_type": "stream",
     "text": [
      "                                                                                \r"
     ]
    },
    {
     "name": "stdout",
     "output_type": "stream",
     "text": [
      "distinct city count: 32320\n",
      "+-------------------+\n",
      "|              ville|\n",
      "+-------------------+\n",
      "|              CESSY|\n",
      "|DOMPIERRE-SUR-VEYLE|\n",
      "|       GRAND-CORENT|\n",
      "|            CONFORT|\n",
      "|LA NEUVILLE BOSMONT|\n",
      "+-------------------+\n",
      "only showing top 5 rows\n",
      "\n",
      "CPU times: user 9.48 ms, sys: 3.57 ms, total: 13.1 ms\n",
      "Wall time: 2.47 s\n"
     ]
    },
    {
     "name": "stderr",
     "output_type": "stream",
     "text": [
      "                                                                                \r"
     ]
    }
   ],
   "execution_count": 9
  },
  {
   "metadata": {
    "ExecuteTime": {
     "end_time": "2025-01-28T09:08:47.749317Z",
     "start_time": "2025-01-28T09:07:48.332254Z"
    }
   },
   "cell_type": "code",
   "source": [
    "%%time\n",
    "distinct_rows = fr_immo_parquet_df.distinct()\n",
    "print(f\"distinct rows count: {distinct_rows.count()}\")\n",
    "distinct_rows.show(5)"
   ],
   "id": "3ac149e684770408",
   "outputs": [
    {
     "name": "stderr",
     "output_type": "stream",
     "text": [
      "25/01/28 10:07:53 WARN RowBasedKeyValueBatch: Calling spill() on RowBasedKeyValueBatch. Will not spill but return 0.\n",
      "25/01/28 10:07:53 WARN RowBasedKeyValueBatch: Calling spill() on RowBasedKeyValueBatch. Will not spill but return 0.\n",
      "25/01/28 10:07:54 WARN RowBasedKeyValueBatch: Calling spill() on RowBasedKeyValueBatch. Will not spill but return 0.\n",
      "25/01/28 10:07:54 WARN RowBasedKeyValueBatch: Calling spill() on RowBasedKeyValueBatch. Will not spill but return 0.\n",
      "25/01/28 10:07:56 WARN RowBasedKeyValueBatch: Calling spill() on RowBasedKeyValueBatch. Will not spill but return 0.\n",
      "25/01/28 10:07:56 WARN RowBasedKeyValueBatch: Calling spill() on RowBasedKeyValueBatch. Will not spill but return 0.\n",
      "25/01/28 10:07:56 WARN RowBasedKeyValueBatch: Calling spill() on RowBasedKeyValueBatch. Will not spill but return 0.\n",
      "25/01/28 10:07:57 WARN RowBasedKeyValueBatch: Calling spill() on RowBasedKeyValueBatch. Will not spill but return 0.\n",
      "25/01/28 10:07:58 WARN RowBasedKeyValueBatch: Calling spill() on RowBasedKeyValueBatch. Will not spill but return 0.\n",
      "25/01/28 10:07:59 WARN RowBasedKeyValueBatch: Calling spill() on RowBasedKeyValueBatch. Will not spill but return 0.\n",
      "25/01/28 10:07:59 WARN RowBasedKeyValueBatch: Calling spill() on RowBasedKeyValueBatch. Will not spill but return 0.\n",
      "25/01/28 10:07:59 WARN RowBasedKeyValueBatch: Calling spill() on RowBasedKeyValueBatch. Will not spill but return 0.\n",
      "25/01/28 10:07:59 WARN RowBasedKeyValueBatch: Calling spill() on RowBasedKeyValueBatch. Will not spill but return 0.\n",
      "25/01/28 10:08:01 WARN RowBasedKeyValueBatch: Calling spill() on RowBasedKeyValueBatch. Will not spill but return 0.\n",
      "25/01/28 10:08:03 WARN RowBasedKeyValueBatch: Calling spill() on RowBasedKeyValueBatch. Will not spill but return 0.\n",
      "25/01/28 10:08:03 WARN RowBasedKeyValueBatch: Calling spill() on RowBasedKeyValueBatch. Will not spill but return 0.\n",
      "25/01/28 10:08:03 WARN RowBasedKeyValueBatch: Calling spill() on RowBasedKeyValueBatch. Will not spill but return 0.\n",
      "25/01/28 10:08:03 WARN RowBasedKeyValueBatch: Calling spill() on RowBasedKeyValueBatch. Will not spill but return 0.\n",
      "25/01/28 10:08:17 WARN RowBasedKeyValueBatch: Calling spill() on RowBasedKeyValueBatch. Will not spill but return 0.\n",
      "25/01/28 10:08:17 WARN RowBasedKeyValueBatch: Calling spill() on RowBasedKeyValueBatch. Will not spill but return 0.\n",
      "25/01/28 10:08:17 WARN RowBasedKeyValueBatch: Calling spill() on RowBasedKeyValueBatch. Will not spill but return 0.\n",
      "25/01/28 10:08:17 WARN RowBasedKeyValueBatch: Calling spill() on RowBasedKeyValueBatch. Will not spill but return 0.\n",
      "25/01/28 10:08:17 WARN RowBasedKeyValueBatch: Calling spill() on RowBasedKeyValueBatch. Will not spill but return 0.\n",
      "25/01/28 10:08:17 WARN RowBasedKeyValueBatch: Calling spill() on RowBasedKeyValueBatch. Will not spill but return 0.\n",
      "25/01/28 10:08:17 WARN RowBasedKeyValueBatch: Calling spill() on RowBasedKeyValueBatch. Will not spill but return 0.\n",
      "25/01/28 10:08:17 WARN RowBasedKeyValueBatch: Calling spill() on RowBasedKeyValueBatch. Will not spill but return 0.\n",
      "25/01/28 10:08:20 WARN RowBasedKeyValueBatch: Calling spill() on RowBasedKeyValueBatch. Will not spill but return 0.\n",
      "25/01/28 10:08:20 WARN RowBasedKeyValueBatch: Calling spill() on RowBasedKeyValueBatch. Will not spill but return 0.\n",
      "25/01/28 10:08:20 WARN RowBasedKeyValueBatch: Calling spill() on RowBasedKeyValueBatch. Will not spill but return 0.\n",
      "25/01/28 10:08:20 WARN RowBasedKeyValueBatch: Calling spill() on RowBasedKeyValueBatch. Will not spill but return 0.\n",
      "25/01/28 10:08:20 WARN RowBasedKeyValueBatch: Calling spill() on RowBasedKeyValueBatch. Will not spill but return 0.\n",
      "25/01/28 10:08:20 WARN RowBasedKeyValueBatch: Calling spill() on RowBasedKeyValueBatch. Will not spill but return 0.\n",
      "25/01/28 10:08:20 WARN RowBasedKeyValueBatch: Calling spill() on RowBasedKeyValueBatch. Will not spill but return 0.\n",
      "25/01/28 10:08:20 WARN RowBasedKeyValueBatch: Calling spill() on RowBasedKeyValueBatch. Will not spill but return 0.\n",
      "25/01/28 10:08:23 WARN RowBasedKeyValueBatch: Calling spill() on RowBasedKeyValueBatch. Will not spill but return 0.\n",
      "25/01/28 10:08:23 WARN RowBasedKeyValueBatch: Calling spill() on RowBasedKeyValueBatch. Will not spill but return 0.\n",
      "25/01/28 10:08:23 WARN RowBasedKeyValueBatch: Calling spill() on RowBasedKeyValueBatch. Will not spill but return 0.\n",
      "25/01/28 10:08:23 WARN RowBasedKeyValueBatch: Calling spill() on RowBasedKeyValueBatch. Will not spill but return 0.\n",
      "25/01/28 10:08:23 WARN RowBasedKeyValueBatch: Calling spill() on RowBasedKeyValueBatch. Will not spill but return 0.\n",
      "25/01/28 10:08:23 WARN RowBasedKeyValueBatch: Calling spill() on RowBasedKeyValueBatch. Will not spill but return 0.\n",
      "                                                                                \r"
     ]
    },
    {
     "name": "stdout",
     "output_type": "stream",
     "text": [
      "distinct rows count: 9141573\n"
     ]
    },
    {
     "name": "stderr",
     "output_type": "stream",
     "text": [
      "25/01/28 10:08:26 WARN RowBasedKeyValueBatch: Calling spill() on RowBasedKeyValueBatch. Will not spill but return 0.\n",
      "25/01/28 10:08:26 WARN RowBasedKeyValueBatch: Calling spill() on RowBasedKeyValueBatch. Will not spill but return 0.\n",
      "25/01/28 10:08:26 WARN RowBasedKeyValueBatch: Calling spill() on RowBasedKeyValueBatch. Will not spill but return 0.\n",
      "25/01/28 10:08:26 WARN RowBasedKeyValueBatch: Calling spill() on RowBasedKeyValueBatch. Will not spill but return 0.\n",
      "25/01/28 10:08:28 WARN RowBasedKeyValueBatch: Calling spill() on RowBasedKeyValueBatch. Will not spill but return 0.\n",
      "25/01/28 10:08:29 WARN RowBasedKeyValueBatch: Calling spill() on RowBasedKeyValueBatch. Will not spill but return 0.\n",
      "25/01/28 10:08:29 WARN RowBasedKeyValueBatch: Calling spill() on RowBasedKeyValueBatch. Will not spill but return 0.\n",
      "25/01/28 10:08:29 WARN RowBasedKeyValueBatch: Calling spill() on RowBasedKeyValueBatch. Will not spill but return 0.\n",
      "25/01/28 10:08:30 WARN RowBasedKeyValueBatch: Calling spill() on RowBasedKeyValueBatch. Will not spill but return 0.\n",
      "25/01/28 10:08:31 WARN RowBasedKeyValueBatch: Calling spill() on RowBasedKeyValueBatch. Will not spill but return 0.\n",
      "25/01/28 10:08:31 WARN RowBasedKeyValueBatch: Calling spill() on RowBasedKeyValueBatch. Will not spill but return 0.\n",
      "25/01/28 10:08:31 WARN RowBasedKeyValueBatch: Calling spill() on RowBasedKeyValueBatch. Will not spill but return 0.\n",
      "25/01/28 10:08:31 WARN RowBasedKeyValueBatch: Calling spill() on RowBasedKeyValueBatch. Will not spill but return 0.\n",
      "25/01/28 10:08:32 WARN RowBasedKeyValueBatch: Calling spill() on RowBasedKeyValueBatch. Will not spill but return 0.\n",
      "25/01/28 10:08:34 WARN RowBasedKeyValueBatch: Calling spill() on RowBasedKeyValueBatch. Will not spill but return 0.\n",
      "25/01/28 10:08:34 WARN RowBasedKeyValueBatch: Calling spill() on RowBasedKeyValueBatch. Will not spill but return 0.\n",
      "25/01/28 10:08:34 WARN RowBasedKeyValueBatch: Calling spill() on RowBasedKeyValueBatch. Will not spill but return 0.\n",
      "25/01/28 10:08:34 WARN RowBasedKeyValueBatch: Calling spill() on RowBasedKeyValueBatch. Will not spill but return 0.\n",
      "[Stage 44:>                                                         (0 + 1) / 1]\r"
     ]
    },
    {
     "name": "stdout",
     "output_type": "stream",
     "text": [
      "+--------------+--------------------+---------+-----------+--------+-------------------+-----------+--------------------+-------------+--------+-----------------+----------------+----------------+\n",
      "|id_transaction|    date_transaction|     prix|departement|id_ville|              ville|code_postal|             adresse|type_batiment|n_pieces|surface_habitable|        latitude|       longitude|\n",
      "+--------------+--------------------+---------+-----------+--------+-------------------+-----------+--------------------+-------------+--------+-----------------+----------------+----------------+\n",
      "|        143401|2014-01-11 10:24:...|265886.29|         01|     354|   ST-GENIS-POUILLY|       1630|      FIN DE POUILLY|  Appartement|       3|               62|46.2518053832376|6.02741119562863|\n",
      "|        140101|2014-01-14 10:23:...| 213000.0|         01|     173|                GEX|       1170|341 RUE MARIUS CADOZ|  Appartement|       2|               57|46.3302948271118|6.06187724874993|\n",
      "|        138801|2014-01-19 10:23:...|  45000.0|         01|     173|                GEX|       1170|   118 RUE DE GENEVE|  Appartement|       3|               37|46.3308346135787|6.05793325629485|\n",
      "|        146041|2014-02-09 10:20:...| 179980.0|         01|     263|MONTMERLE-SUR-SAONE|       1090| 7 RUE DE ST TRIVIER|       Maison|       4|               90|46.0806961067016|4.76004470176024|\n",
      "|        147550|2014-02-12 10:19:...| 207000.0|         01|     250|          MISERIEUX|       1600|    49 ALL DES ARUMS|       Maison|       5|               91|45.9760815395473|4.81268221390308|\n",
      "+--------------+--------------------+---------+-----------+--------+-------------------+-----------+--------------------+-------------+--------+-----------------+----------------+----------------+\n",
      "only showing top 5 rows\n",
      "\n",
      "CPU times: user 84.5 ms, sys: 25.9 ms, total: 110 ms\n",
      "Wall time: 59.4 s\n"
     ]
    },
    {
     "name": "stderr",
     "output_type": "stream",
     "text": [
      "                                                                                \r"
     ]
    }
   ],
   "execution_count": 12
  },
  {
   "metadata": {
    "ExecuteTime": {
     "end_time": "2025-01-28T09:04:57.101400Z",
     "start_time": "2025-01-28T09:04:46.464747Z"
    }
   },
   "cell_type": "code",
   "source": [
    "%%time\n",
    "distinct_city = fr_immo_csv_df.select(\"ville\").distinct()\n",
    "print(f\"distinct city count: {distinct_city.count()}\")\n",
    "distinct_city.show(5)"
   ],
   "id": "b1503a758c6475a6",
   "outputs": [
    {
     "name": "stderr",
     "output_type": "stream",
     "text": [
      "                                                                                \r"
     ]
    },
    {
     "name": "stdout",
     "output_type": "stream",
     "text": [
      "distinct city count: 32320\n"
     ]
    },
    {
     "name": "stderr",
     "output_type": "stream",
     "text": [
      "[Stage 33:===================================================>     (9 + 1) / 10]\r"
     ]
    },
    {
     "name": "stdout",
     "output_type": "stream",
     "text": [
      "+-------------------+\n",
      "|              ville|\n",
      "+-------------------+\n",
      "|              CESSY|\n",
      "|DOMPIERRE-SUR-VEYLE|\n",
      "|       GRAND-CORENT|\n",
      "|            CONFORT|\n",
      "|LA NEUVILLE BOSMONT|\n",
      "+-------------------+\n",
      "only showing top 5 rows\n",
      "\n",
      "CPU times: user 31.4 ms, sys: 6.81 ms, total: 38.2 ms\n",
      "Wall time: 10.6 s\n"
     ]
    },
    {
     "name": "stderr",
     "output_type": "stream",
     "text": [
      "                                                                                \r"
     ]
    }
   ],
   "execution_count": 11
  },
  {
   "metadata": {
    "ExecuteTime": {
     "end_time": "2025-01-28T09:11:05.013732Z",
     "start_time": "2025-01-28T09:09:36.525549Z"
    }
   },
   "cell_type": "code",
   "source": [
    "%%time\n",
    "distinct_rows = fr_immo_csv_df.distinct()\n",
    "print(f\"distinct rows count: {distinct_rows.count()}\")\n",
    "distinct_rows.show(5)"
   ],
   "id": "d19c32f302c6fae",
   "outputs": [
    {
     "name": "stderr",
     "output_type": "stream",
     "text": [
      "25/01/28 10:09:41 WARN RowBasedKeyValueBatch: Calling spill() on RowBasedKeyValueBatch. Will not spill but return 0.\n",
      "25/01/28 10:09:41 WARN RowBasedKeyValueBatch: Calling spill() on RowBasedKeyValueBatch. Will not spill but return 0.\n",
      "25/01/28 10:09:41 WARN RowBasedKeyValueBatch: Calling spill() on RowBasedKeyValueBatch. Will not spill but return 0.\n",
      "25/01/28 10:09:41 WARN RowBasedKeyValueBatch: Calling spill() on RowBasedKeyValueBatch. Will not spill but return 0.\n",
      "25/01/28 10:09:42 WARN RowBasedKeyValueBatch: Calling spill() on RowBasedKeyValueBatch. Will not spill but return 0.\n",
      "25/01/28 10:10:06 WARN RowBasedKeyValueBatch: Calling spill() on RowBasedKeyValueBatch. Will not spill but return 0.\n",
      "25/01/28 10:10:06 WARN RowBasedKeyValueBatch: Calling spill() on RowBasedKeyValueBatch. Will not spill but return 0.\n",
      "25/01/28 10:10:06 WARN RowBasedKeyValueBatch: Calling spill() on RowBasedKeyValueBatch. Will not spill but return 0.\n",
      "25/01/28 10:10:06 WARN RowBasedKeyValueBatch: Calling spill() on RowBasedKeyValueBatch. Will not spill but return 0.\n",
      "25/01/28 10:10:06 WARN RowBasedKeyValueBatch: Calling spill() on RowBasedKeyValueBatch. Will not spill but return 0.\n",
      "25/01/28 10:10:06 WARN RowBasedKeyValueBatch: Calling spill() on RowBasedKeyValueBatch. Will not spill but return 0.\n",
      "25/01/28 10:10:24 WARN RowBasedKeyValueBatch: Calling spill() on RowBasedKeyValueBatch. Will not spill but return 0.\n",
      "25/01/28 10:10:24 WARN RowBasedKeyValueBatch: Calling spill() on RowBasedKeyValueBatch. Will not spill but return 0.\n",
      "25/01/28 10:10:24 WARN RowBasedKeyValueBatch: Calling spill() on RowBasedKeyValueBatch. Will not spill but return 0.\n",
      "25/01/28 10:10:24 WARN RowBasedKeyValueBatch: Calling spill() on RowBasedKeyValueBatch. Will not spill but return 0.\n",
      "25/01/28 10:10:27 WARN RowBasedKeyValueBatch: Calling spill() on RowBasedKeyValueBatch. Will not spill but return 0.\n",
      "25/01/28 10:10:27 WARN RowBasedKeyValueBatch: Calling spill() on RowBasedKeyValueBatch. Will not spill but return 0.\n",
      "25/01/28 10:10:27 WARN RowBasedKeyValueBatch: Calling spill() on RowBasedKeyValueBatch. Will not spill but return 0.\n",
      "25/01/28 10:10:27 WARN RowBasedKeyValueBatch: Calling spill() on RowBasedKeyValueBatch. Will not spill but return 0.\n",
      "25/01/28 10:10:30 WARN RowBasedKeyValueBatch: Calling spill() on RowBasedKeyValueBatch. Will not spill but return 0.\n",
      "25/01/28 10:10:30 WARN RowBasedKeyValueBatch: Calling spill() on RowBasedKeyValueBatch. Will not spill but return 0.\n",
      "25/01/28 10:10:31 WARN RowBasedKeyValueBatch: Calling spill() on RowBasedKeyValueBatch. Will not spill but return 0.\n",
      "25/01/28 10:10:31 WARN RowBasedKeyValueBatch: Calling spill() on RowBasedKeyValueBatch. Will not spill but return 0.\n",
      "[Stage 48:===================================================>    (11 + 1) / 12]\r"
     ]
    },
    {
     "name": "stdout",
     "output_type": "stream",
     "text": [
      "distinct rows count: 9141573\n"
     ]
    },
    {
     "name": "stderr",
     "output_type": "stream",
     "text": [
      "25/01/28 10:10:36 WARN RowBasedKeyValueBatch: Calling spill() on RowBasedKeyValueBatch. Will not spill but return 0.\n",
      "25/01/28 10:10:37 WARN RowBasedKeyValueBatch: Calling spill() on RowBasedKeyValueBatch. Will not spill but return 0.\n",
      "25/01/28 10:10:37 WARN RowBasedKeyValueBatch: Calling spill() on RowBasedKeyValueBatch. Will not spill but return 0.\n",
      "25/01/28 10:10:38 WARN RowBasedKeyValueBatch: Calling spill() on RowBasedKeyValueBatch. Will not spill but return 0.\n",
      "25/01/28 10:10:38 WARN RowBasedKeyValueBatch: Calling spill() on RowBasedKeyValueBatch. Will not spill but return 0.\n",
      "25/01/28 10:10:47 WARN RowBasedKeyValueBatch: Calling spill() on RowBasedKeyValueBatch. Will not spill but return 0.\n",
      "25/01/28 10:10:48 WARN RowBasedKeyValueBatch: Calling spill() on RowBasedKeyValueBatch. Will not spill but return 0.\n",
      "25/01/28 10:10:48 WARN RowBasedKeyValueBatch: Calling spill() on RowBasedKeyValueBatch. Will not spill but return 0.\n",
      "25/01/28 10:10:49 WARN RowBasedKeyValueBatch: Calling spill() on RowBasedKeyValueBatch. Will not spill but return 0.\n",
      "25/01/28 10:10:50 WARN RowBasedKeyValueBatch: Calling spill() on RowBasedKeyValueBatch. Will not spill but return 0.\n",
      "25/01/28 10:10:50 WARN RowBasedKeyValueBatch: Calling spill() on RowBasedKeyValueBatch. Will not spill but return 0.\n",
      "[Stage 54:>                                                         (0 + 1) / 1]\r"
     ]
    },
    {
     "name": "stdout",
     "output_type": "stream",
     "text": [
      "+--------------+--------------------+--------+-----------+--------+------------+-----------+--------------------+-------------+--------+-----------------+----------------+----------------+\n",
      "|id_transaction|    date_transaction|    prix|departement|id_ville|       ville|code_postal|             adresse|type_batiment|n_pieces|surface_habitable|        latitude|       longitude|\n",
      "+--------------+--------------------+--------+-----------+--------+------------+-----------+--------------------+-------------+--------+-----------------+----------------+----------------+\n",
      "|        143595|2014-01-06 10:24:...|206800.0|          1|     446|  VILLENEUVE|       1480|10 ALL DES MARGUE...|       Maison|       5|              100| 46.017215697925|4.83236118261167|\n",
      "|        146931|2014-02-24 10:17:...| 50000.0|          1|     430|    VARAMBON|       1160|      5154  VARAMBON|       Maison|       2|               56|46.0400470273731|5.31682925744396|\n",
      "|        146921|2014-02-25 10:17:...|236000.0|          1|     165|FRANCHELEINS|       1090|         5448  MOINE|       Maison|       4|              100|46.0719472966885| 4.8098449791294|\n",
      "|        139502|2014-02-26 10:17:...|160000.0|          1|     180|      GRILLY|       1220|    23 CHE DU MOULIN|       Maison|       1|               52|46.3158318720306|6.11565594496905|\n",
      "|        139061|2014-03-12 10:15:...|316000.0|          1|      10|   ANGLEFORT|       1350| 5148  SOUS LA VILLE|       Maison|       3|              142|45.9165306495878|5.81802191490142|\n",
      "+--------------+--------------------+--------+-----------+--------+------------+-----------+--------------------+-------------+--------+-----------------+----------------+----------------+\n",
      "only showing top 5 rows\n",
      "\n",
      "CPU times: user 84.9 ms, sys: 22 ms, total: 107 ms\n",
      "Wall time: 1min 28s\n"
     ]
    },
    {
     "name": "stderr",
     "output_type": "stream",
     "text": [
      "                                                                                \r"
     ]
    }
   ],
   "execution_count": 13
  },
  {
   "metadata": {
    "ExecuteTime": {
     "end_time": "2025-01-28T09:14:02.006676Z",
     "start_time": "2025-01-28T09:14:01.994214Z"
    }
   },
   "cell_type": "code",
   "source": [
    "\n",
    "import time\n",
    "\n",
    "\n",
    "def random_batch(df:DataFrame,fmt:str):\n",
    "    start = time.time()\n",
    "    result=df.sample(False, 0.05).collect()\n",
    "    stats=\"{},{},{}\".format(fmt, \"random_batch\", time.time() - start)\n",
    "    print(stats)"
   ],
   "id": "3295c84c051cad2c",
   "outputs": [],
   "execution_count": 16
  },
  {
   "metadata": {
    "ExecuteTime": {
     "end_time": "2025-01-28T09:14:13.195716Z",
     "start_time": "2025-01-28T09:14:03.423555Z"
    }
   },
   "cell_type": "code",
   "source": "random_batch(fr_immo_parquet_df,\"parquet\")",
   "id": "b0870e375401903d",
   "outputs": [
    {
     "name": "stderr",
     "output_type": "stream",
     "text": [
      "                                                                                \r"
     ]
    },
    {
     "name": "stdout",
     "output_type": "stream",
     "text": [
      "parquet,random_batch,9.600819110870361\n"
     ]
    }
   ],
   "execution_count": 17
  },
  {
   "metadata": {
    "ExecuteTime": {
     "end_time": "2025-01-28T09:15:12.131728Z",
     "start_time": "2025-01-28T09:14:51.821540Z"
    }
   },
   "cell_type": "code",
   "source": "random_batch(fr_immo_csv_df,\"csv\")",
   "id": "d543b2b00a31081d",
   "outputs": [
    {
     "name": "stderr",
     "output_type": "stream",
     "text": [
      "                                                                                \r"
     ]
    },
    {
     "name": "stdout",
     "output_type": "stream",
     "text": [
      "csv,random_batch,20.17941665649414\n"
     ]
    }
   ],
   "execution_count": 18
  },
  {
   "metadata": {},
   "cell_type": "code",
   "outputs": [],
   "execution_count": null,
   "source": "",
   "id": "a7885412d3dff6ee"
  },
  {
   "metadata": {},
   "cell_type": "markdown",
   "source": [
    "## Compatibility problems\n",
    "\n",
    "As there are many libraries that can write parquet files, there are some compatibility problems.\n",
    "\n",
    "### Timestamp data type\n",
    "\n",
    "The default Timestamp data type implementation in **pyarrow/pandas is INT64 (TIMESTAMP(NANOS))**.\n",
    "\n",
    "The default Timestamp data type implementation in **spark is INT64 (TIMESTAMP(MICROS)) or INT96 (NANOS)**.\n",
    "\n",
    "INT96 (NANOS) is deprecated in the newer spark version. You can still activate in Spark environments with `config(\"spark.sql.legacy.parquet.nanosAsLong\", \"true\")`\n",
    "\n",
    "In the below example, we use pyspark to read a parquet file which is generated by using the pandas/pyarrow. You may receive an error message (based on your spark version)\n",
    "\n",
    "```java\n",
    "org.apache.spark.sql.AnalysisException: Illegal Parquet type: INT64 (TIMESTAMP(NANOS,false)).\n",
    "```"
   ],
   "id": "7efb4e02e2afb6af"
  },
  {
   "metadata": {},
   "cell_type": "code",
   "outputs": [],
   "execution_count": null,
   "source": "",
   "id": "dac2ad7afbf2850a"
  },
  {
   "metadata": {
    "ExecuteTime": {
     "end_time": "2025-01-27T15:24:40.210827Z",
     "start_time": "2025-01-27T15:24:37.060126Z"
    }
   },
   "cell_type": "code",
   "source": [
    "fr_immo_raw_df = spark.read.parquet(fr_immo_raw_path)\n",
    "print(fr_immo_raw_df.count())\n"
   ],
   "id": "51c85c5f4ebe74ad",
   "outputs": [
    {
     "name": "stdout",
     "output_type": "stream",
     "text": [
      "9141573\n"
     ]
    }
   ],
   "execution_count": 11
  },
  {
   "metadata": {
    "ExecuteTime": {
     "end_time": "2025-01-27T15:28:43.787714Z",
     "start_time": "2025-01-27T15:28:43.513501Z"
    }
   },
   "cell_type": "code",
   "source": "fr_immo_raw_df.select([date_col_name]).show(5)",
   "id": "6db13988e3c31f15",
   "outputs": [
    {
     "name": "stdout",
     "output_type": "stream",
     "text": [
      "+-------------------+\n",
      "|   date_transaction|\n",
      "+-------------------+\n",
      "|1388620800000000000|\n",
      "|1388620800000000000|\n",
      "|1388620800000000000|\n",
      "|1388620800000000000|\n",
      "|1388707200000000000|\n",
      "+-------------------+\n",
      "only showing top 5 rows\n",
      "\n"
     ]
    }
   ],
   "execution_count": 19
  },
  {
   "metadata": {
    "ExecuteTime": {
     "end_time": "2025-01-27T15:26:04.884737Z",
     "start_time": "2025-01-27T15:26:04.866374Z"
    }
   },
   "cell_type": "code",
   "source": "fr_immo_raw_df.printSchema()",
   "id": "2dacd0b7ea2600b4",
   "outputs": [
    {
     "name": "stdout",
     "output_type": "stream",
     "text": [
      "root\n",
      " |-- id_transaction: integer (nullable = true)\n",
      " |-- date_transaction: long (nullable = true)\n",
      " |-- prix: double (nullable = true)\n",
      " |-- departement: string (nullable = true)\n",
      " |-- id_ville: integer (nullable = true)\n",
      " |-- ville: string (nullable = true)\n",
      " |-- code_postal: integer (nullable = true)\n",
      " |-- adresse: string (nullable = true)\n",
      " |-- type_batiment: string (nullable = true)\n",
      " |-- n_pieces: integer (nullable = true)\n",
      " |-- surface_habitable: integer (nullable = true)\n",
      " |-- latitude: double (nullable = true)\n",
      " |-- longitude: double (nullable = true)\n",
      "\n"
     ]
    }
   ],
   "execution_count": 15
  },
  {
   "metadata": {
    "ExecuteTime": {
     "end_time": "2025-01-27T15:28:51.899625Z",
     "start_time": "2025-01-27T15:28:51.276463Z"
    }
   },
   "cell_type": "code",
   "source": [
    "fr_immo_valid_df = spark.read.parquet(fr_immo_valid_path)\n",
    "fr_immo_valid_df.select([date_col_name]).show(5)"
   ],
   "id": "974977a2c3a78998",
   "outputs": [
    {
     "name": "stdout",
     "output_type": "stream",
     "text": [
      "+--------------------+\n",
      "|    date_transaction|\n",
      "+--------------------+\n",
      "|2013-12-31 10:25:...|\n",
      "|2013-12-31 10:25:...|\n",
      "|2013-12-31 10:25:...|\n",
      "|2013-12-31 10:25:...|\n",
      "|2014-01-01 10:25:...|\n",
      "+--------------------+\n",
      "only showing top 5 rows\n",
      "\n"
     ]
    }
   ],
   "execution_count": 20
  },
  {
   "metadata": {},
   "cell_type": "code",
   "outputs": [],
   "execution_count": null,
   "source": "",
   "id": "705511fd3d51d470"
  },
  {
   "metadata": {},
   "cell_type": "markdown",
   "source": "",
   "id": "e3d5d95ae8d9b7f"
  },
  {
   "metadata": {},
   "cell_type": "code",
   "outputs": [],
   "execution_count": null,
   "source": "",
   "id": "cd8503e798f5d51d"
  }
 ],
 "metadata": {
  "kernelspec": {
   "display_name": "Python 3",
   "language": "python",
   "name": "python3"
  },
  "language_info": {
   "codemirror_mode": {
    "name": "ipython",
    "version": 2
   },
   "file_extension": ".py",
   "mimetype": "text/x-python",
   "name": "python",
   "nbconvert_exporter": "python",
   "pygments_lexer": "ipython2",
   "version": "2.7.6"
  }
 },
 "nbformat": 4,
 "nbformat_minor": 5
}
